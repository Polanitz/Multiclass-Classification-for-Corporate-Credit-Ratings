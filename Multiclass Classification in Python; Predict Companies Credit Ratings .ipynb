{
 "cells": [
  {
   "cell_type": "code",
   "execution_count": 1,
   "metadata": {},
   "outputs": [
    {
     "name": "stdout",
     "output_type": "stream",
     "text": [
      "Index(['spid', 'rating', 'COMMEQTA', 'LLPLOANS', 'COSTTOINCOME', 'ROE',\n",
      "       'LIQASSTA', 'SIZE'],\n",
      "      dtype='object')\n"
     ]
    }
   ],
   "source": [
    "import pandas as pd\n",
    "import numpy as np\n",
    "import matplotlib.pyplot as plt\n",
    "%matplotlib inline\n",
    "\n",
    "df = pd.read_csv('ratings.csv')\n",
    "print(df.columns)"
   ]
  },
  {
   "cell_type": "code",
   "execution_count": 2,
   "metadata": {},
   "outputs": [
    {
     "data": {
      "text/html": [
       "<div>\n",
       "<style scoped>\n",
       "    .dataframe tbody tr th:only-of-type {\n",
       "        vertical-align: middle;\n",
       "    }\n",
       "\n",
       "    .dataframe tbody tr th {\n",
       "        vertical-align: top;\n",
       "    }\n",
       "\n",
       "    .dataframe thead th {\n",
       "        text-align: right;\n",
       "    }\n",
       "</style>\n",
       "<table border=\"1\" class=\"dataframe\">\n",
       "  <thead>\n",
       "    <tr style=\"text-align: right;\">\n",
       "      <th></th>\n",
       "      <th>spid</th>\n",
       "      <th>rating</th>\n",
       "      <th>COMMEQTA</th>\n",
       "      <th>LLPLOANS</th>\n",
       "      <th>COSTTOINCOME</th>\n",
       "      <th>ROE</th>\n",
       "      <th>LIQASSTA</th>\n",
       "      <th>SIZE</th>\n",
       "    </tr>\n",
       "  </thead>\n",
       "  <tbody>\n",
       "    <tr>\n",
       "      <th>0</th>\n",
       "      <td>141126</td>\n",
       "      <td>7</td>\n",
       "      <td>0.088445</td>\n",
       "      <td>0.057333</td>\n",
       "      <td>0.582160</td>\n",
       "      <td>0.177753</td>\n",
       "      <td>0.374932</td>\n",
       "      <td>18.818966</td>\n",
       "    </tr>\n",
       "    <tr>\n",
       "      <th>1</th>\n",
       "      <td>342066</td>\n",
       "      <td>5</td>\n",
       "      <td>0.055974</td>\n",
       "      <td>0.009640</td>\n",
       "      <td>0.526015</td>\n",
       "      <td>-0.122580</td>\n",
       "      <td>0.497892</td>\n",
       "      <td>19.072266</td>\n",
       "    </tr>\n",
       "    <tr>\n",
       "      <th>2</th>\n",
       "      <td>366790</td>\n",
       "      <td>10</td>\n",
       "      <td>0.154322</td>\n",
       "      <td>0.014402</td>\n",
       "      <td>2.084550</td>\n",
       "      <td>-0.166647</td>\n",
       "      <td>0.087426</td>\n",
       "      <td>16.075995</td>\n",
       "    </tr>\n",
       "    <tr>\n",
       "      <th>3</th>\n",
       "      <td>146854</td>\n",
       "      <td>1</td>\n",
       "      <td>0.026977</td>\n",
       "      <td>0.002951</td>\n",
       "      <td>0.248881</td>\n",
       "      <td>0.102982</td>\n",
       "      <td>0.457657</td>\n",
       "      <td>18.101099</td>\n",
       "    </tr>\n",
       "    <tr>\n",
       "      <th>4</th>\n",
       "      <td>319262</td>\n",
       "      <td>2</td>\n",
       "      <td>0.096891</td>\n",
       "      <td>0.002645</td>\n",
       "      <td>0.544106</td>\n",
       "      <td>0.178183</td>\n",
       "      <td>0.148163</td>\n",
       "      <td>15.758143</td>\n",
       "    </tr>\n",
       "  </tbody>\n",
       "</table>\n",
       "</div>"
      ],
      "text/plain": [
       "     spid  rating  COMMEQTA  LLPLOANS  COSTTOINCOME       ROE  LIQASSTA  \\\n",
       "0  141126       7  0.088445  0.057333      0.582160  0.177753  0.374932   \n",
       "1  342066       5  0.055974  0.009640      0.526015 -0.122580  0.497892   \n",
       "2  366790      10  0.154322  0.014402      2.084550 -0.166647  0.087426   \n",
       "3  146854       1  0.026977  0.002951      0.248881  0.102982  0.457657   \n",
       "4  319262       2  0.096891  0.002645      0.544106  0.178183  0.148163   \n",
       "\n",
       "        SIZE  \n",
       "0  18.818966  \n",
       "1  19.072266  \n",
       "2  16.075995  \n",
       "3  18.101099  \n",
       "4  15.758143  "
      ]
     },
     "execution_count": 2,
     "metadata": {},
     "output_type": "execute_result"
    }
   ],
   "source": [
    "df.head()"
   ]
  },
  {
   "cell_type": "code",
   "execution_count": 3,
   "metadata": {},
   "outputs": [
    {
     "name": "stdout",
     "output_type": "stream",
     "text": [
      "dimension of credit data: (5000, 8)\n"
     ]
    }
   ],
   "source": [
    "print(\"dimension of credit data: {}\".format(df.shape))"
   ]
  },
  {
   "cell_type": "code",
   "execution_count": 4,
   "metadata": {},
   "outputs": [
    {
     "name": "stdout",
     "output_type": "stream",
     "text": [
      "rating\n",
      "1     500\n",
      "2     500\n",
      "3     500\n",
      "4     500\n",
      "5     500\n",
      "6     500\n",
      "7     500\n",
      "8     500\n",
      "9     500\n",
      "10    500\n",
      "dtype: int64\n"
     ]
    }
   ],
   "source": [
    "print(df.groupby('rating').size())"
   ]
  },
  {
   "cell_type": "code",
   "execution_count": 5,
   "metadata": {},
   "outputs": [
    {
     "name": "stderr",
     "output_type": "stream",
     "text": [
      "C:\\ProgramData\\Anaconda3\\lib\\site-packages\\seaborn\\_decorators.py:43: FutureWarning: Pass the following variable as a keyword arg: x. From version 0.12, the only valid positional argument will be `data`, and passing other arguments without an explicit keyword will result in an error or misinterpretation.\n",
      "  FutureWarning\n"
     ]
    },
    {
     "data": {
      "text/plain": [
       "<AxesSubplot:xlabel='rating', ylabel='count'>"
      ]
     },
     "execution_count": 5,
     "metadata": {},
     "output_type": "execute_result"
    },
    {
     "data": {
      "image/png": "[encoded data removed]",
      "text/plain": [
       "<Figure size 432x288 with 1 Axes>"
      ]
     },
     "metadata": {
      "needs_background": "light"
     },
     "output_type": "display_data"
    }
   ],
   "source": [
    "import seaborn as sns\n",
    "\n",
    "sns.countplot(df['rating'],label=\"Count\")"
   ]
  },
  {
   "cell_type": "code",
   "execution_count": 6,
   "metadata": {},
   "outputs": [
    {
     "name": "stdout",
     "output_type": "stream",
     "text": [
      "<class 'pandas.core.frame.DataFrame'>\n",
      "RangeIndex: 5000 entries, 0 to 4999\n",
      "Data columns (total 8 columns):\n",
      " #   Column        Non-Null Count  Dtype  \n",
      "---  ------        --------------  -----  \n",
      " 0   spid          5000 non-null   int64  \n",
      " 1   rating        5000 non-null   int64  \n",
      " 2   COMMEQTA      5000 non-null   float64\n",
      " 3   LLPLOANS      5000 non-null   float64\n",
      " 4   COSTTOINCOME  5000 non-null   float64\n",
      " 5   ROE           5000 non-null   float64\n",
      " 6   LIQASSTA      5000 non-null   float64\n",
      " 7   SIZE          5000 non-null   float64\n",
      "dtypes: float64(6), int64(2)\n",
      "memory usage: 312.6 KB\n"
     ]
    }
   ],
   "source": [
    "df.info()"
   ]
  },
  {
   "cell_type": "code",
   "execution_count": 7,
   "metadata": {},
   "outputs": [
    {
     "data": {
      "text/plain": [
       "(5000, 8)"
      ]
     },
     "execution_count": 7,
     "metadata": {},
     "output_type": "execute_result"
    }
   ],
   "source": [
    "df.shape"
   ]
  },
  {
   "cell_type": "code",
   "execution_count": 8,
   "metadata": {},
   "outputs": [],
   "source": [
    "df.drop(['spid'], axis=1, inplace=True)"
   ]
  },
  {
   "cell_type": "code",
   "execution_count": 9,
   "metadata": {},
   "outputs": [
    {
     "data": {
      "text/plain": [
       "Index(['rating', 'COMMEQTA', 'LLPLOANS', 'COSTTOINCOME', 'ROE', 'LIQASSTA',\n",
       "       'SIZE'],\n",
       "      dtype='object')"
      ]
     },
     "execution_count": 9,
     "metadata": {},
     "output_type": "execute_result"
    }
   ],
   "source": [
    "df.columns"
   ]
  },
  {
   "cell_type": "code",
   "execution_count": 10,
   "metadata": {},
   "outputs": [
    {
     "data": {
      "text/plain": [
       "4     500\n",
       "8     500\n",
       "1     500\n",
       "5     500\n",
       "9     500\n",
       "2     500\n",
       "6     500\n",
       "10    500\n",
       "3     500\n",
       "7     500\n",
       "Name: rating, dtype: int64"
      ]
     },
     "execution_count": 10,
     "metadata": {},
     "output_type": "execute_result"
    }
   ],
   "source": [
    "df['rating'].value_counts()"
   ]
  },
  {
   "cell_type": "code",
   "execution_count": 11,
   "metadata": {},
   "outputs": [
    {
     "data": {
      "text/html": [
       "<div>\n",
       "<style scoped>\n",
       "    .dataframe tbody tr th:only-of-type {\n",
       "        vertical-align: middle;\n",
       "    }\n",
       "\n",
       "    .dataframe tbody tr th {\n",
       "        vertical-align: top;\n",
       "    }\n",
       "\n",
       "    .dataframe thead th {\n",
       "        text-align: right;\n",
       "    }\n",
       "</style>\n",
       "<table border=\"1\" class=\"dataframe\">\n",
       "  <thead>\n",
       "    <tr style=\"text-align: right;\">\n",
       "      <th></th>\n",
       "      <th>COMMEQTA</th>\n",
       "      <th>LLPLOANS</th>\n",
       "      <th>COSTTOINCOME</th>\n",
       "      <th>ROE</th>\n",
       "      <th>LIQASSTA</th>\n",
       "      <th>SIZE</th>\n",
       "    </tr>\n",
       "    <tr>\n",
       "      <th>rating</th>\n",
       "      <th></th>\n",
       "      <th></th>\n",
       "      <th></th>\n",
       "      <th></th>\n",
       "      <th></th>\n",
       "      <th></th>\n",
       "    </tr>\n",
       "  </thead>\n",
       "  <tbody>\n",
       "    <tr>\n",
       "      <th>1</th>\n",
       "      <td>0.057003</td>\n",
       "      <td>0.001871</td>\n",
       "      <td>0.494334</td>\n",
       "      <td>0.083958</td>\n",
       "      <td>0.437552</td>\n",
       "      <td>18.605855</td>\n",
       "    </tr>\n",
       "    <tr>\n",
       "      <th>2</th>\n",
       "      <td>0.057911</td>\n",
       "      <td>0.003646</td>\n",
       "      <td>0.592275</td>\n",
       "      <td>0.139777</td>\n",
       "      <td>0.233581</td>\n",
       "      <td>18.387910</td>\n",
       "    </tr>\n",
       "    <tr>\n",
       "      <th>3</th>\n",
       "      <td>0.092421</td>\n",
       "      <td>0.005555</td>\n",
       "      <td>0.458752</td>\n",
       "      <td>0.095894</td>\n",
       "      <td>0.268491</td>\n",
       "      <td>18.482072</td>\n",
       "    </tr>\n",
       "    <tr>\n",
       "      <th>4</th>\n",
       "      <td>0.146309</td>\n",
       "      <td>0.035710</td>\n",
       "      <td>0.570748</td>\n",
       "      <td>0.080668</td>\n",
       "      <td>0.317805</td>\n",
       "      <td>18.240401</td>\n",
       "    </tr>\n",
       "    <tr>\n",
       "      <th>5</th>\n",
       "      <td>0.090053</td>\n",
       "      <td>0.009089</td>\n",
       "      <td>0.690173</td>\n",
       "      <td>0.054626</td>\n",
       "      <td>0.364121</td>\n",
       "      <td>18.609178</td>\n",
       "    </tr>\n",
       "    <tr>\n",
       "      <th>6</th>\n",
       "      <td>0.087127</td>\n",
       "      <td>0.047742</td>\n",
       "      <td>0.869896</td>\n",
       "      <td>-0.012485</td>\n",
       "      <td>0.424102</td>\n",
       "      <td>18.456604</td>\n",
       "    </tr>\n",
       "    <tr>\n",
       "      <th>7</th>\n",
       "      <td>0.096847</td>\n",
       "      <td>0.030545</td>\n",
       "      <td>0.612404</td>\n",
       "      <td>0.154562</td>\n",
       "      <td>0.250780</td>\n",
       "      <td>17.594119</td>\n",
       "    </tr>\n",
       "    <tr>\n",
       "      <th>8</th>\n",
       "      <td>0.183537</td>\n",
       "      <td>0.015903</td>\n",
       "      <td>0.623534</td>\n",
       "      <td>0.054504</td>\n",
       "      <td>0.130751</td>\n",
       "      <td>14.580082</td>\n",
       "    </tr>\n",
       "    <tr>\n",
       "      <th>9</th>\n",
       "      <td>0.066718</td>\n",
       "      <td>0.021108</td>\n",
       "      <td>0.635265</td>\n",
       "      <td>0.101699</td>\n",
       "      <td>0.248671</td>\n",
       "      <td>17.337787</td>\n",
       "    </tr>\n",
       "    <tr>\n",
       "      <th>10</th>\n",
       "      <td>0.108748</td>\n",
       "      <td>0.027643</td>\n",
       "      <td>1.524795</td>\n",
       "      <td>-0.028864</td>\n",
       "      <td>0.112625</td>\n",
       "      <td>16.371931</td>\n",
       "    </tr>\n",
       "  </tbody>\n",
       "</table>\n",
       "</div>"
      ],
      "text/plain": [
       "        COMMEQTA  LLPLOANS  COSTTOINCOME       ROE  LIQASSTA       SIZE\n",
       "rating                                                                 \n",
       "1       0.057003  0.001871      0.494334  0.083958  0.437552  18.605855\n",
       "2       0.057911  0.003646      0.592275  0.139777  0.233581  18.387910\n",
       "3       0.092421  0.005555      0.458752  0.095894  0.268491  18.482072\n",
       "4       0.146309  0.035710      0.570748  0.080668  0.317805  18.240401\n",
       "5       0.090053  0.009089      0.690173  0.054626  0.364121  18.609178\n",
       "6       0.087127  0.047742      0.869896 -0.012485  0.424102  18.456604\n",
       "7       0.096847  0.030545      0.612404  0.154562  0.250780  17.594119\n",
       "8       0.183537  0.015903      0.623534  0.054504  0.130751  14.580082\n",
       "9       0.066718  0.021108      0.635265  0.101699  0.248671  17.337787\n",
       "10      0.108748  0.027643      1.524795 -0.028864  0.112625  16.371931"
      ]
     },
     "execution_count": 11,
     "metadata": {},
     "output_type": "execute_result"
    }
   ],
   "source": [
    "df.groupby('rating').mean()"
   ]
  },
  {
   "cell_type": "code",
   "execution_count": 12,
   "metadata": {},
   "outputs": [
    {
     "data": {
      "image/png": "[encoded data removed]",
      "text/plain": [
       "<Figure size 432x288 with 1 Axes>"
      ]
     },
     "metadata": {
      "needs_background": "light"
     },
     "output_type": "display_data"
    }
   ],
   "source": [
    "%matplotlib inline\n",
    "df['COMMEQTA'].hist(color=\"blue\")\n",
    "plt.title(\"Histogram of COMMEQTA\")\n",
    "plt.xlabel(\"COMMEQTA\")\n",
    "plt.ylabel(\"Frequency\")\n",
    "plt.savefig(\"hist_COMMEQTA\")"
   ]
  },
  {
   "cell_type": "code",
   "execution_count": 13,
   "metadata": {},
   "outputs": [
    {
     "data": {
      "text/plain": [
       "count    5000.000000\n",
       "mean        0.098667\n",
       "std         0.060603\n",
       "min         0.007804\n",
       "25%         0.054212\n",
       "50%         0.085571\n",
       "75%         0.133225\n",
       "max         0.317547\n",
       "Name: COMMEQTA, dtype: float64"
      ]
     },
     "execution_count": 13,
     "metadata": {},
     "output_type": "execute_result"
    }
   ],
   "source": [
    "df['COMMEQTA'].describe()"
   ]
  },
  {
   "cell_type": "code",
   "execution_count": 14,
   "metadata": {},
   "outputs": [
    {
     "data": {
      "image/png": "[encoded data removed]",
      "text/plain": [
       "<Figure size 432x288 with 1 Axes>"
      ]
     },
     "metadata": {
      "needs_background": "light"
     },
     "output_type": "display_data"
    }
   ],
   "source": [
    "%matplotlib inline\n",
    "df['LLPLOANS'].hist(color=\"red\")\n",
    "plt.title(\"Histogram of LLPLOANS\")\n",
    "plt.xlabel(\"LLPLOANS\")\n",
    "plt.ylabel(\"Frequency\")\n",
    "plt.savefig(\"hist_LLPLOANS\")"
   ]
  },
  {
   "cell_type": "code",
   "execution_count": 15,
   "metadata": {},
   "outputs": [
    {
     "data": {
      "text/plain": [
       "count    5000.000000\n",
       "mean        0.019881\n",
       "std         0.020050\n",
       "min        -0.001574\n",
       "25%         0.003987\n",
       "50%         0.012582\n",
       "75%         0.030034\n",
       "max         0.094904\n",
       "Name: LLPLOANS, dtype: float64"
      ]
     },
     "execution_count": 15,
     "metadata": {},
     "output_type": "execute_result"
    }
   ],
   "source": [
    "df['LLPLOANS'].describe()"
   ]
  },
  {
   "cell_type": "code",
   "execution_count": 16,
   "metadata": {},
   "outputs": [
    {
     "data": {
      "image/png": "[encoded data removed]",
      "text/plain": [
       "<Figure size 432x288 with 1 Axes>"
      ]
     },
     "metadata": {
      "needs_background": "light"
     },
     "output_type": "display_data"
    }
   ],
   "source": [
    "%matplotlib inline\n",
    "df['COSTTOINCOME'].hist(color=\"orange\")\n",
    "plt.title(\"Histogram of COSTTOINCOME\")\n",
    "plt.xlabel(\"COSTTOINCOME\")\n",
    "plt.ylabel(\"Frequency\")\n",
    "plt.savefig(\"hist_COSTTOINCOME\")"
   ]
  },
  {
   "cell_type": "code",
   "execution_count": 17,
   "metadata": {},
   "outputs": [
    {
     "data": {
      "text/plain": [
       "count    5000.000000\n",
       "mean        0.707218\n",
       "std         0.396710\n",
       "min         0.051317\n",
       "25%         0.469341\n",
       "50%         0.628569\n",
       "75%         0.791117\n",
       "max         2.465519\n",
       "Name: COSTTOINCOME, dtype: float64"
      ]
     },
     "execution_count": 17,
     "metadata": {},
     "output_type": "execute_result"
    }
   ],
   "source": [
    "df['COSTTOINCOME'].describe()"
   ]
  },
  {
   "cell_type": "code",
   "execution_count": 18,
   "metadata": {},
   "outputs": [
    {
     "data": {
      "image/png": "[encoded data removed]",
      "text/plain": [
       "<Figure size 432x288 with 1 Axes>"
      ]
     },
     "metadata": {
      "needs_background": "light"
     },
     "output_type": "display_data"
    }
   ],
   "source": [
    "%matplotlib inline\n",
    "df['ROE'].hist(color=\"green\")\n",
    "plt.title(\"Histogram of ROE\")\n",
    "plt.xlabel(\"ROE\")\n",
    "plt.ylabel(\"Frequency\")\n",
    "plt.savefig(\"hist_ROE\")"
   ]
  },
  {
   "cell_type": "code",
   "execution_count": 19,
   "metadata": {},
   "outputs": [
    {
     "data": {
      "text/plain": [
       "count    5000.000000\n",
       "mean        0.072434\n",
       "std         0.136688\n",
       "min        -0.495290\n",
       "25%         0.002513\n",
       "50%         0.085189\n",
       "75%         0.154354\n",
       "max         0.499487\n",
       "Name: ROE, dtype: float64"
      ]
     },
     "execution_count": 19,
     "metadata": {},
     "output_type": "execute_result"
    }
   ],
   "source": [
    "df['ROE'].describe()"
   ]
  },
  {
   "cell_type": "code",
   "execution_count": 20,
   "metadata": {},
   "outputs": [
    {
     "data": {
      "image/png": "[encoded data removed]",
      "text/plain": [
       "<Figure size 432x288 with 1 Axes>"
      ]
     },
     "metadata": {
      "needs_background": "light"
     },
     "output_type": "display_data"
    }
   ],
   "source": [
    "%matplotlib inline\n",
    "df['LIQASSTA'].hist(color=\"purple\")\n",
    "plt.title(\"Histogram of LIQASSTA\")\n",
    "plt.xlabel(\"LIQASSTA\")\n",
    "plt.ylabel(\"Frequency\")\n",
    "plt.savefig(\"hist_LIQASSTA\")"
   ]
  },
  {
   "cell_type": "code",
   "execution_count": 21,
   "metadata": {},
   "outputs": [
    {
     "data": {
      "text/plain": [
       "count    5000.000000\n",
       "mean        0.278848\n",
       "std         0.185743\n",
       "min         0.007040\n",
       "25%         0.129720\n",
       "50%         0.234405\n",
       "75%         0.404874\n",
       "max         0.815533\n",
       "Name: LIQASSTA, dtype: float64"
      ]
     },
     "execution_count": 21,
     "metadata": {},
     "output_type": "execute_result"
    }
   ],
   "source": [
    "df['LIQASSTA'].describe()"
   ]
  },
  {
   "cell_type": "code",
   "execution_count": 22,
   "metadata": {},
   "outputs": [
    {
     "data": {
      "image/png": "[encoded data removed]",
      "text/plain": [
       "<Figure size 432x288 with 1 Axes>"
      ]
     },
     "metadata": {
      "needs_background": "light"
     },
     "output_type": "display_data"
    }
   ],
   "source": [
    "%matplotlib inline\n",
    "df['SIZE'].hist(color=\"black\")\n",
    "plt.title(\"Histogram of SIZE\")\n",
    "plt.xlabel(\"SIZE\")\n",
    "plt.ylabel(\"Frequency\")\n",
    "plt.savefig(\"hist_SIZE\")"
   ]
  },
  {
   "cell_type": "code",
   "execution_count": 23,
   "metadata": {},
   "outputs": [
    {
     "data": {
      "text/plain": [
       "count    5000.000000\n",
       "mean       17.666594\n",
       "std         1.901862\n",
       "min        10.652532\n",
       "25%        16.464669\n",
       "50%        17.798592\n",
       "75%        18.951919\n",
       "max        21.430289\n",
       "Name: SIZE, dtype: float64"
      ]
     },
     "execution_count": 23,
     "metadata": {},
     "output_type": "execute_result"
    }
   ],
   "source": [
    "df['SIZE'].describe()"
   ]
  },
  {
   "cell_type": "code",
   "execution_count": 24,
   "metadata": {},
   "outputs": [],
   "source": [
    "X = df.loc[:, df.columns != \"rating\"]\n",
    "y = df.loc[:, df.columns == \"rating\"]\n",
    "\n",
    "from sklearn.model_selection import train_test_split\n",
    "\n",
    "X_train, X_test, y_train, y_test = train_test_split(X, y, test_size=0.33, random_state=42, stratify=y)"
   ]
  },
  {
   "cell_type": "code",
   "execution_count": 25,
   "metadata": {},
   "outputs": [
    {
     "name": "stderr",
     "output_type": "stream",
     "text": [
      "C:\\ProgramData\\Anaconda3\\lib\\site-packages\\ipykernel_launcher.py:9: DataConversionWarning: A column-vector y was passed when a 1d array was expected. Please change the shape of y to (n_samples, ), for example using ravel().\n",
      "  if __name__ == '__main__':\n",
      "C:\\ProgramData\\Anaconda3\\lib\\site-packages\\ipykernel_launcher.py:9: DataConversionWarning: A column-vector y was passed when a 1d array was expected. Please change the shape of y to (n_samples, ), for example using ravel().\n",
      "  if __name__ == '__main__':\n",
      "C:\\ProgramData\\Anaconda3\\lib\\site-packages\\ipykernel_launcher.py:9: DataConversionWarning: A column-vector y was passed when a 1d array was expected. Please change the shape of y to (n_samples, ), for example using ravel().\n",
      "  if __name__ == '__main__':\n",
      "C:\\ProgramData\\Anaconda3\\lib\\site-packages\\ipykernel_launcher.py:9: DataConversionWarning: A column-vector y was passed when a 1d array was expected. Please change the shape of y to (n_samples, ), for example using ravel().\n",
      "  if __name__ == '__main__':\n",
      "C:\\ProgramData\\Anaconda3\\lib\\site-packages\\ipykernel_launcher.py:9: DataConversionWarning: A column-vector y was passed when a 1d array was expected. Please change the shape of y to (n_samples, ), for example using ravel().\n",
      "  if __name__ == '__main__':\n",
      "C:\\ProgramData\\Anaconda3\\lib\\site-packages\\ipykernel_launcher.py:9: DataConversionWarning: A column-vector y was passed when a 1d array was expected. Please change the shape of y to (n_samples, ), for example using ravel().\n",
      "  if __name__ == '__main__':\n",
      "C:\\ProgramData\\Anaconda3\\lib\\site-packages\\ipykernel_launcher.py:9: DataConversionWarning: A column-vector y was passed when a 1d array was expected. Please change the shape of y to (n_samples, ), for example using ravel().\n",
      "  if __name__ == '__main__':\n",
      "C:\\ProgramData\\Anaconda3\\lib\\site-packages\\ipykernel_launcher.py:9: DataConversionWarning: A column-vector y was passed when a 1d array was expected. Please change the shape of y to (n_samples, ), for example using ravel().\n",
      "  if __name__ == '__main__':\n",
      "C:\\ProgramData\\Anaconda3\\lib\\site-packages\\ipykernel_launcher.py:9: DataConversionWarning: A column-vector y was passed when a 1d array was expected. Please change the shape of y to (n_samples, ), for example using ravel().\n",
      "  if __name__ == '__main__':\n",
      "C:\\ProgramData\\Anaconda3\\lib\\site-packages\\ipykernel_launcher.py:9: DataConversionWarning: A column-vector y was passed when a 1d array was expected. Please change the shape of y to (n_samples, ), for example using ravel().\n",
      "  if __name__ == '__main__':\n"
     ]
    },
    {
     "data": {
      "image/png": "[encoded data removed]",
      "text/plain": [
       "<Figure size 432x288 with 1 Axes>"
      ]
     },
     "metadata": {
      "needs_background": "light"
     },
     "output_type": "display_data"
    }
   ],
   "source": [
    "from sklearn.neighbors import KNeighborsClassifier\n",
    "training_accuracy = []\n",
    "test_accuracy = []\n",
    "# try n_neighbors from 1 to 10\n",
    "neighbors_settings = range(1, 11)\n",
    "for n_neighbors in neighbors_settings:\n",
    "    # build the model\n",
    "    knn = KNeighborsClassifier(n_neighbors=n_neighbors)\n",
    "    knn.fit(X_train, y_train)\n",
    "    # record training set accuracy\n",
    "    training_accuracy.append(knn.score(X_train, y_train))\n",
    "    # record test set accuracy\n",
    "    test_accuracy.append(knn.score(X_test, y_test))\n",
    "plt.plot(neighbors_settings, training_accuracy, label=\"training accuracy\")\n",
    "plt.plot(neighbors_settings, test_accuracy, label=\"test accuracy\")\n",
    "plt.ylabel(\"Accuracy\")\n",
    "plt.xlabel(\"n_neighbors\")\n",
    "plt.legend()\n",
    "plt.savefig('knn_compare_model')\n"
   ]
  },
  {
   "cell_type": "code",
   "execution_count": 26,
   "metadata": {},
   "outputs": [
    {
     "name": "stdout",
     "output_type": "stream",
     "text": [
      "Accuracy of K-NN classifier on training set: 0.69\n",
      "Accuracy of K-NN classifier on test set: 0.52\n"
     ]
    },
    {
     "name": "stderr",
     "output_type": "stream",
     "text": [
      "C:\\ProgramData\\Anaconda3\\lib\\site-packages\\ipykernel_launcher.py:2: DataConversionWarning: A column-vector y was passed when a 1d array was expected. Please change the shape of y to (n_samples, ), for example using ravel().\n",
      "  \n"
     ]
    }
   ],
   "source": [
    "knn = KNeighborsClassifier(n_neighbors=4)\n",
    "knn.fit(X_train, y_train)\n",
    "print('Accuracy of K-NN classifier on training set: {:.2f}'.format(knn.score(X_train, y_train)))\n",
    "print('Accuracy of K-NN classifier on test set: {:.2f}'.format(knn.score(X_test, y_test)))"
   ]
  },
  {
   "cell_type": "code",
   "execution_count": 27,
   "metadata": {},
   "outputs": [
    {
     "name": "stderr",
     "output_type": "stream",
     "text": [
      "C:\\ProgramData\\Anaconda3\\lib\\site-packages\\sklearn\\utils\\validation.py:72: DataConversionWarning: A column-vector y was passed when a 1d array was expected. Please change the shape of y to (n_samples, ), for example using ravel().\n",
      "  return f(**kwargs)\n"
     ]
    },
    {
     "name": "stdout",
     "output_type": "stream",
     "text": [
      "Training set score: 0.485\n",
      "Test set score: 0.453\n"
     ]
    },
    {
     "name": "stderr",
     "output_type": "stream",
     "text": [
      "C:\\ProgramData\\Anaconda3\\lib\\site-packages\\sklearn\\linear_model\\_logistic.py:764: ConvergenceWarning: lbfgs failed to converge (status=1):\n",
      "STOP: TOTAL NO. of ITERATIONS REACHED LIMIT.\n",
      "\n",
      "Increase the number of iterations (max_iter) or scale the data as shown in:\n",
      "    https://scikit-learn.org/stable/modules/preprocessing.html\n",
      "Please also refer to the documentation for alternative solver options:\n",
      "    https://scikit-learn.org/stable/modules/linear_model.html#logistic-regression\n",
      "  extra_warning_msg=_LOGISTIC_SOLVER_CONVERGENCE_MSG)\n"
     ]
    }
   ],
   "source": [
    "from sklearn.linear_model import LogisticRegression\n",
    "logreg = LogisticRegression(random_state=42).fit(X_train, y_train)\n",
    "print(\"Training set score: {:.3f}\".format(logreg.score(X_train, y_train)))\n",
    "print(\"Test set score: {:.3f}\".format(logreg.score(X_test, y_test)))"
   ]
  },
  {
   "cell_type": "code",
   "execution_count": 28,
   "metadata": {},
   "outputs": [
    {
     "name": "stderr",
     "output_type": "stream",
     "text": [
      "C:\\ProgramData\\Anaconda3\\lib\\site-packages\\sklearn\\utils\\validation.py:72: DataConversionWarning: A column-vector y was passed when a 1d array was expected. Please change the shape of y to (n_samples, ), for example using ravel().\n",
      "  return f(**kwargs)\n"
     ]
    },
    {
     "name": "stdout",
     "output_type": "stream",
     "text": [
      "Training set accuracy: 0.337\n",
      "Test set accuracy: 0.316\n"
     ]
    },
    {
     "name": "stderr",
     "output_type": "stream",
     "text": [
      "C:\\ProgramData\\Anaconda3\\lib\\site-packages\\sklearn\\linear_model\\_logistic.py:764: ConvergenceWarning: lbfgs failed to converge (status=1):\n",
      "STOP: TOTAL NO. of ITERATIONS REACHED LIMIT.\n",
      "\n",
      "Increase the number of iterations (max_iter) or scale the data as shown in:\n",
      "    https://scikit-learn.org/stable/modules/preprocessing.html\n",
      "Please also refer to the documentation for alternative solver options:\n",
      "    https://scikit-learn.org/stable/modules/linear_model.html#logistic-regression\n",
      "  extra_warning_msg=_LOGISTIC_SOLVER_CONVERGENCE_MSG)\n"
     ]
    }
   ],
   "source": [
    "logreg001 = LogisticRegression(C=0.01, random_state=42).fit(X_train, y_train)\n",
    "print(\"Training set accuracy: {:.3f}\".format(logreg001.score(X_train, y_train)))\n",
    "print(\"Test set accuracy: {:.3f}\".format(logreg001.score(X_test, y_test)))"
   ]
  },
  {
   "cell_type": "code",
   "execution_count": 29,
   "metadata": {},
   "outputs": [
    {
     "name": "stderr",
     "output_type": "stream",
     "text": [
      "C:\\ProgramData\\Anaconda3\\lib\\site-packages\\sklearn\\utils\\validation.py:72: DataConversionWarning: A column-vector y was passed when a 1d array was expected. Please change the shape of y to (n_samples, ), for example using ravel().\n",
      "  return f(**kwargs)\n"
     ]
    },
    {
     "name": "stdout",
     "output_type": "stream",
     "text": [
      "Training set accuracy: 0.495\n",
      "Test set accuracy: 0.464\n"
     ]
    },
    {
     "name": "stderr",
     "output_type": "stream",
     "text": [
      "C:\\ProgramData\\Anaconda3\\lib\\site-packages\\sklearn\\linear_model\\_logistic.py:764: ConvergenceWarning: lbfgs failed to converge (status=1):\n",
      "STOP: TOTAL NO. of ITERATIONS REACHED LIMIT.\n",
      "\n",
      "Increase the number of iterations (max_iter) or scale the data as shown in:\n",
      "    https://scikit-learn.org/stable/modules/preprocessing.html\n",
      "Please also refer to the documentation for alternative solver options:\n",
      "    https://scikit-learn.org/stable/modules/linear_model.html#logistic-regression\n",
      "  extra_warning_msg=_LOGISTIC_SOLVER_CONVERGENCE_MSG)\n"
     ]
    }
   ],
   "source": [
    "logreg100 = LogisticRegression(C=100, random_state=42).fit(X_train, y_train)\n",
    "print(\"Training set accuracy: {:.3f}\".format(logreg100.score(X_train, y_train)))\n",
    "print(\"Test set accuracy: {:.3f}\".format(logreg100.score(X_test, y_test)))"
   ]
  },
  {
   "cell_type": "code",
   "execution_count": 30,
   "metadata": {},
   "outputs": [
    {
     "name": "stdout",
     "output_type": "stream",
     "text": [
      "Accuracy on training set: 1.000\n",
      "Accuracy on test set: 0.700\n"
     ]
    }
   ],
   "source": [
    "from sklearn.tree import DecisionTreeClassifier\n",
    "tree1 = DecisionTreeClassifier(random_state=42)\n",
    "tree1.fit(X_train, y_train)\n",
    "print(\"Accuracy on training set: {:.3f}\".format(tree1.score(X_train, y_train)))\n",
    "print(\"Accuracy on test set: {:.3f}\".format(tree1.score(X_test, y_test)))"
   ]
  },
  {
   "cell_type": "code",
   "execution_count": 31,
   "metadata": {},
   "outputs": [
    {
     "name": "stdout",
     "output_type": "stream",
     "text": [
      "Accuracy on training set: 0.900\n",
      "Accuracy on test set: 0.731\n"
     ]
    }
   ],
   "source": [
    "tree2 = DecisionTreeClassifier(max_depth=14, random_state=42)\n",
    "tree2.fit(X_train, y_train)\n",
    "print(\"Accuracy on training set: {:.3f}\".format(tree2.score(X_train, y_train)))\n",
    "print(\"Accuracy on test set: {:.3f}\".format(tree2.score(X_test, y_test)))"
   ]
  },
  {
   "cell_type": "code",
   "execution_count": 32,
   "metadata": {},
   "outputs": [],
   "source": [
    "df_features = [x for i,x in enumerate(X.columns) if i!= len(X.columns) ]"
   ]
  },
  {
   "cell_type": "code",
   "execution_count": 33,
   "metadata": {},
   "outputs": [
    {
     "name": "stdout",
     "output_type": "stream",
     "text": [
      "Feature importances:\n",
      "[0.10678475 0.23736728 0.17098942 0.18010008 0.09578607 0.20897239]\n"
     ]
    }
   ],
   "source": [
    "print(\"Feature importances:\\n{}\".format(tree2.feature_importances_))"
   ]
  },
  {
   "cell_type": "code",
   "execution_count": 34,
   "metadata": {},
   "outputs": [
    {
     "data": {
      "image/png": "[encoded data removed]",
      "text/plain": [
       "<Figure size 576x432 with 1 Axes>"
      ]
     },
     "metadata": {
      "needs_background": "light"
     },
     "output_type": "display_data"
    }
   ],
   "source": [
    "def plot_feature_importances_credit(model):\n",
    "    plt.figure(figsize=(8,6))\n",
    "    n_features = len(X.columns)\n",
    "    plt.barh(range(n_features), model.feature_importances_, align='center')\n",
    "    plt.yticks(np.arange(n_features), df_features)\n",
    "    plt.xlabel(\"Feature importance\")\n",
    "    plt.ylabel(\"Feature\")\n",
    "    plt.ylim(-1, n_features)\n",
    "    \n",
    "plot_feature_importances_credit(tree2)\n",
    "plt.savefig('feature_importance')"
   ]
  },
  {
   "cell_type": "code",
   "execution_count": 35,
   "metadata": {},
   "outputs": [
    {
     "name": "stderr",
     "output_type": "stream",
     "text": [
      "C:\\ProgramData\\Anaconda3\\lib\\site-packages\\ipykernel_launcher.py:3: DataConversionWarning: A column-vector y was passed when a 1d array was expected. Please change the shape of y to (n_samples,), for example using ravel().\n",
      "  This is separate from the ipykernel package so we can avoid doing imports until\n"
     ]
    },
    {
     "name": "stdout",
     "output_type": "stream",
     "text": [
      "Accuracy on training set: 1.000\n",
      "Accuracy on test set: 0.779\n"
     ]
    }
   ],
   "source": [
    "from sklearn.ensemble import RandomForestClassifier\n",
    "rf = RandomForestClassifier(n_estimators=100, random_state=42)\n",
    "rf.fit(X_train, y_train)\n",
    "print(\"Accuracy on training set: {:.3f}\".format(rf.score(X_train, y_train)))\n",
    "print(\"Accuracy on test set: {:.3f}\".format(rf.score(X_test, y_test)))"
   ]
  },
  {
   "cell_type": "code",
   "execution_count": 36,
   "metadata": {},
   "outputs": [
    {
     "name": "stderr",
     "output_type": "stream",
     "text": [
      "C:\\ProgramData\\Anaconda3\\lib\\site-packages\\ipykernel_launcher.py:2: DataConversionWarning: A column-vector y was passed when a 1d array was expected. Please change the shape of y to (n_samples,), for example using ravel().\n",
      "  \n"
     ]
    },
    {
     "name": "stdout",
     "output_type": "stream",
     "text": [
      "Accuracy on training set: 0.910\n",
      "Accuracy on test set: 0.790\n"
     ]
    }
   ],
   "source": [
    "rf1 = RandomForestClassifier(max_depth=12, n_estimators=100, random_state=42)\n",
    "rf1.fit(X_train, y_train)\n",
    "print(\"Accuracy on training set: {:.3f}\".format(rf1.score(X_train, y_train)))\n",
    "print(\"Accuracy on test set: {:.3f}\".format(rf1.score(X_test, y_test)))"
   ]
  },
  {
   "cell_type": "code",
   "execution_count": 37,
   "metadata": {},
   "outputs": [
    {
     "data": {
      "image/png": "[encoded data removed]",
      "text/plain": [
       "<Figure size 576x432 with 1 Axes>"
      ]
     },
     "metadata": {
      "needs_background": "light"
     },
     "output_type": "display_data"
    }
   ],
   "source": [
    "plot_feature_importances_credit(rf1)"
   ]
  },
  {
   "cell_type": "code",
   "execution_count": 38,
   "metadata": {},
   "outputs": [
    {
     "name": "stderr",
     "output_type": "stream",
     "text": [
      "C:\\ProgramData\\Anaconda3\\lib\\site-packages\\sklearn\\utils\\validation.py:72: DataConversionWarning: A column-vector y was passed when a 1d array was expected. Please change the shape of y to (n_samples, ), for example using ravel().\n",
      "  return f(**kwargs)\n"
     ]
    },
    {
     "name": "stdout",
     "output_type": "stream",
     "text": [
      "Accuracy on training set: 0.920\n",
      "Accuracy on test set: 0.805\n"
     ]
    }
   ],
   "source": [
    "from sklearn.ensemble import GradientBoostingClassifier\n",
    "gb = GradientBoostingClassifier(random_state=42)\n",
    "gb.fit(X_train, y_train)\n",
    "print(\"Accuracy on training set: {:.3f}\".format(gb.score(X_train, y_train)))\n",
    "print(\"Accuracy on test set: {:.3f}\".format(gb.score(X_test, y_test)))"
   ]
  },
  {
   "cell_type": "code",
   "execution_count": 56,
   "metadata": {},
   "outputs": [
    {
     "name": "stderr",
     "output_type": "stream",
     "text": [
      "C:\\ProgramData\\Anaconda3\\lib\\site-packages\\sklearn\\utils\\validation.py:72: DataConversionWarning: A column-vector y was passed when a 1d array was expected. Please change the shape of y to (n_samples, ), for example using ravel().\n",
      "  return f(**kwargs)\n"
     ]
    },
    {
     "name": "stdout",
     "output_type": "stream",
     "text": [
      "Accuracy on training set: 0.813\n",
      "Accuracy on test set: 0.784\n"
     ]
    }
   ],
   "source": [
    "gb1 = GradientBoostingClassifier(max_depth=1, random_state=42)\n",
    "gb1.fit(X_train, y_train)\n",
    "print(\"Accuracy on training set: {:.3f}\".format(gb1.score(X_train, y_train)))\n",
    "print(\"Accuracy on test set: {:.3f}\".format(gb1.score(X_test, y_test)))"
   ]
  },
  {
   "cell_type": "code",
   "execution_count": 57,
   "metadata": {},
   "outputs": [
    {
     "name": "stderr",
     "output_type": "stream",
     "text": [
      "C:\\ProgramData\\Anaconda3\\lib\\site-packages\\sklearn\\utils\\validation.py:72: DataConversionWarning: A column-vector y was passed when a 1d array was expected. Please change the shape of y to (n_samples, ), for example using ravel().\n",
      "  return f(**kwargs)\n"
     ]
    },
    {
     "name": "stdout",
     "output_type": "stream",
     "text": [
      "Accuracy on training set: 0.763\n",
      "Accuracy on test set: 0.727\n"
     ]
    }
   ],
   "source": [
    "gb2 = GradientBoostingClassifier(learning_rate=0.01, random_state=42)\n",
    "gb2.fit(X_train, y_train)\n",
    "print(\"Accuracy on training set: {:.3f}\".format(gb2.score(X_train, y_train)))\n",
    "print(\"Accuracy on test set: {:.3f}\".format(gb2.score(X_test, y_test)))"
   ]
  },
  {
   "cell_type": "code",
   "execution_count": 58,
   "metadata": {},
   "outputs": [
    {
     "data": {
      "image/png": "[encoded data removed]",
      "text/plain": [
       "<Figure size 576x432 with 1 Axes>"
      ]
     },
     "metadata": {
      "needs_background": "light"
     },
     "output_type": "display_data"
    }
   ],
   "source": [
    "plot_feature_importances_credit(gb)"
   ]
  },
  {
   "cell_type": "code",
   "execution_count": 41,
   "metadata": {},
   "outputs": [
    {
     "name": "stderr",
     "output_type": "stream",
     "text": [
      "C:\\ProgramData\\Anaconda3\\lib\\site-packages\\sklearn\\utils\\validation.py:72: DataConversionWarning: A column-vector y was passed when a 1d array was expected. Please change the shape of y to (n_samples, ), for example using ravel().\n",
      "  return f(**kwargs)\n"
     ]
    },
    {
     "name": "stdout",
     "output_type": "stream",
     "text": [
      "Accuracy on training set: 0.33\n",
      "Accuracy on test set: 0.33\n"
     ]
    }
   ],
   "source": [
    "from sklearn.svm import SVC\n",
    "svc1 = SVC(random_state=42)\n",
    "svc1.fit(X_train, y_train)\n",
    "print(\"Accuracy on training set: {:.2f}\".format(svc1.score(X_train, y_train)))\n",
    "print(\"Accuracy on test set: {:.2f}\".format(svc1.score(X_test, y_test)))"
   ]
  },
  {
   "cell_type": "code",
   "execution_count": 42,
   "metadata": {},
   "outputs": [
    {
     "name": "stderr",
     "output_type": "stream",
     "text": [
      "C:\\ProgramData\\Anaconda3\\lib\\site-packages\\sklearn\\utils\\validation.py:72: DataConversionWarning: A column-vector y was passed when a 1d array was expected. Please change the shape of y to (n_samples, ), for example using ravel().\n",
      "  return f(**kwargs)\n"
     ]
    },
    {
     "name": "stdout",
     "output_type": "stream",
     "text": [
      "Accuracy on training set: 0.73\n",
      "Accuracy on test set: 0.68\n"
     ]
    }
   ],
   "source": [
    "from sklearn.preprocessing import MinMaxScaler\n",
    "scaler = MinMaxScaler()\n",
    "X_train_scaled = scaler.fit_transform(X_train)\n",
    "X_test_scaled = scaler.fit_transform(X_test)\n",
    "svc2 = SVC(random_state=42)\n",
    "svc2.fit(X_train_scaled, y_train)\n",
    "print(\"Accuracy on training set: {:.2f}\".format(svc2.score(X_train_scaled, y_train)))\n",
    "print(\"Accuracy on test set: {:.2f}\".format(svc2.score(X_test_scaled, y_test)))"
   ]
  },
  {
   "cell_type": "code",
   "execution_count": 43,
   "metadata": {},
   "outputs": [
    {
     "name": "stderr",
     "output_type": "stream",
     "text": [
      "C:\\ProgramData\\Anaconda3\\lib\\site-packages\\sklearn\\utils\\validation.py:72: DataConversionWarning: A column-vector y was passed when a 1d array was expected. Please change the shape of y to (n_samples, ), for example using ravel().\n",
      "  return f(**kwargs)\n"
     ]
    },
    {
     "name": "stdout",
     "output_type": "stream",
     "text": [
      "Accuracy on training set: 0.822\n",
      "Accuracy on test set: 0.730\n"
     ]
    }
   ],
   "source": [
    "svc3 = SVC(C=100, random_state=42)\n",
    "svc3.fit(X_train_scaled, y_train)\n",
    "print(\"Accuracy on training set: {:.3f}\".format(svc3.score(X_train_scaled, y_train)))\n",
    "print(\"Accuracy on test set: {:.3f}\".format(svc3.score(X_test_scaled, y_test)))"
   ]
  },
  {
   "cell_type": "code",
   "execution_count": 44,
   "metadata": {},
   "outputs": [
    {
     "name": "stderr",
     "output_type": "stream",
     "text": [
      "C:\\ProgramData\\Anaconda3\\lib\\site-packages\\sklearn\\utils\\validation.py:72: DataConversionWarning: A column-vector y was passed when a 1d array was expected. Please change the shape of y to (n_samples, ), for example using ravel().\n",
      "  return f(**kwargs)\n"
     ]
    },
    {
     "name": "stdout",
     "output_type": "stream",
     "text": [
      "Accuracy on training set: 0.57\n",
      "Accuracy on test set: 0.56\n"
     ]
    },
    {
     "name": "stderr",
     "output_type": "stream",
     "text": [
      "C:\\ProgramData\\Anaconda3\\lib\\site-packages\\sklearn\\neural_network\\_multilayer_perceptron.py:585: ConvergenceWarning: Stochastic Optimizer: Maximum iterations (200) reached and the optimization hasn't converged yet.\n",
      "  % self.max_iter, ConvergenceWarning)\n"
     ]
    }
   ],
   "source": [
    "from sklearn.neural_network import MLPClassifier\n",
    "mlp1 = MLPClassifier(random_state=42)\n",
    "mlp1.fit(X_train, y_train)\n",
    "print(\"Accuracy on training set: {:.2f}\".format(mlp1.score(X_train, y_train)))\n",
    "print(\"Accuracy on test set: {:.2f}\".format(mlp1.score(X_test, y_test)))"
   ]
  },
  {
   "cell_type": "code",
   "execution_count": 45,
   "metadata": {},
   "outputs": [
    {
     "name": "stderr",
     "output_type": "stream",
     "text": [
      "C:\\ProgramData\\Anaconda3\\lib\\site-packages\\sklearn\\utils\\validation.py:72: DataConversionWarning: A column-vector y was passed when a 1d array was expected. Please change the shape of y to (n_samples, ), for example using ravel().\n",
      "  return f(**kwargs)\n"
     ]
    },
    {
     "name": "stdout",
     "output_type": "stream",
     "text": [
      "Accuracy on training set: 0.784\n",
      "Accuracy on test set: 0.730\n"
     ]
    },
    {
     "name": "stderr",
     "output_type": "stream",
     "text": [
      "C:\\ProgramData\\Anaconda3\\lib\\site-packages\\sklearn\\neural_network\\_multilayer_perceptron.py:585: ConvergenceWarning: Stochastic Optimizer: Maximum iterations (200) reached and the optimization hasn't converged yet.\n",
      "  % self.max_iter, ConvergenceWarning)\n"
     ]
    }
   ],
   "source": [
    "from sklearn.preprocessing import StandardScaler\n",
    "scaler = StandardScaler()\n",
    "X_train_scaled = scaler.fit_transform(X_train)\n",
    "X_test_scaled = scaler.fit_transform(X_test)\n",
    "mlp2 = MLPClassifier(random_state=42)\n",
    "mlp2.fit(X_train_scaled, y_train)\n",
    "print(\"Accuracy on training set: {:.3f}\".format(mlp2.score(X_train_scaled, y_train)))\n",
    "print(\"Accuracy on test set: {:.3f}\".format(mlp2.score(X_test_scaled, y_test)))"
   ]
  },
  {
   "cell_type": "code",
   "execution_count": 46,
   "metadata": {},
   "outputs": [
    {
     "name": "stderr",
     "output_type": "stream",
     "text": [
      "C:\\ProgramData\\Anaconda3\\lib\\site-packages\\sklearn\\utils\\validation.py:72: DataConversionWarning: A column-vector y was passed when a 1d array was expected. Please change the shape of y to (n_samples, ), for example using ravel().\n",
      "  return f(**kwargs)\n"
     ]
    },
    {
     "name": "stdout",
     "output_type": "stream",
     "text": [
      "Accuracy on training set: 0.839\n",
      "Accuracy on test set: 0.740\n"
     ]
    }
   ],
   "source": [
    "mlp3 = MLPClassifier(max_iter=1000, random_state=42)\n",
    "mlp3.fit(X_train_scaled, y_train)\n",
    "print(\"Accuracy on training set: {:.3f}\".format(mlp3.score(X_train_scaled, y_train)))\n",
    "print(\"Accuracy on test set: {:.3f}\".format(mlp3.score(X_test_scaled, y_test)))"
   ]
  },
  {
   "cell_type": "code",
   "execution_count": 47,
   "metadata": {},
   "outputs": [
    {
     "name": "stderr",
     "output_type": "stream",
     "text": [
      "C:\\ProgramData\\Anaconda3\\lib\\site-packages\\sklearn\\utils\\validation.py:72: DataConversionWarning: A column-vector y was passed when a 1d array was expected. Please change the shape of y to (n_samples, ), for example using ravel().\n",
      "  return f(**kwargs)\n"
     ]
    },
    {
     "name": "stdout",
     "output_type": "stream",
     "text": [
      "Accuracy on training set: 0.734\n",
      "Accuracy on test set: 0.687\n"
     ]
    }
   ],
   "source": [
    "mlp4 = MLPClassifier(max_iter=1000, alpha=1, random_state=42)\n",
    "mlp4.fit(X_train_scaled, y_train)\n",
    "print(\"Accuracy on training set: {:.3f}\".format(mlp4.score(X_train_scaled, y_train)))\n",
    "print(\"Accuracy on test set: {:.3f}\".format(mlp4.score(X_test_scaled, y_test)))"
   ]
  },
  {
   "cell_type": "code",
   "execution_count": 48,
   "metadata": {},
   "outputs": [
    {
     "data": {
      "text/plain": [
       "<matplotlib.colorbar.Colorbar at 0x18e40a03c48>"
      ]
     },
     "execution_count": 48,
     "metadata": {},
     "output_type": "execute_result"
    },
    {
     "data": {
      "image/png": "[encoded data removed]",
      "text/plain": [
       "<Figure size 1440x360 with 2 Axes>"
      ]
     },
     "metadata": {
      "needs_background": "light"
     },
     "output_type": "display_data"
    }
   ],
   "source": [
    "plt.figure(figsize=(20, 5))\n",
    "plt.imshow(mlp3.coefs_[0], interpolation=\"none\", cmap='viridis')\n",
    "plt.yticks(range(len(X.columns)), df_features)\n",
    "plt.xlabel(\"Columns in weight matrix\")\n",
    "plt.ylabel(\"Input feature\")\n",
    "plt.colorbar()"
   ]
  },
  {
   "cell_type": "code",
   "execution_count": 59,
   "metadata": {},
   "outputs": [
    {
     "data": {
      "text/html": [
       "<div>\n",
       "<style scoped>\n",
       "    .dataframe tbody tr th:only-of-type {\n",
       "        vertical-align: middle;\n",
       "    }\n",
       "\n",
       "    .dataframe tbody tr th {\n",
       "        vertical-align: top;\n",
       "    }\n",
       "\n",
       "    .dataframe thead th {\n",
       "        text-align: right;\n",
       "    }\n",
       "</style>\n",
       "<table border=\"1\" class=\"dataframe\">\n",
       "  <thead>\n",
       "    <tr style=\"text-align: right;\">\n",
       "      <th></th>\n",
       "      <th>Algorithms</th>\n",
       "      <th>Tests Accuracy</th>\n",
       "    </tr>\n",
       "  </thead>\n",
       "  <tbody>\n",
       "    <tr>\n",
       "      <th>4</th>\n",
       "      <td>Gradient Boosting</td>\n",
       "      <td>0.805455</td>\n",
       "    </tr>\n",
       "    <tr>\n",
       "      <th>3</th>\n",
       "      <td>Random Forest</td>\n",
       "      <td>0.790303</td>\n",
       "    </tr>\n",
       "    <tr>\n",
       "      <th>6</th>\n",
       "      <td>Deep Learning</td>\n",
       "      <td>0.740000</td>\n",
       "    </tr>\n",
       "    <tr>\n",
       "      <th>2</th>\n",
       "      <td>Decision Trees</td>\n",
       "      <td>0.730909</td>\n",
       "    </tr>\n",
       "    <tr>\n",
       "      <th>0</th>\n",
       "      <td>k-Nearest Neighbors</td>\n",
       "      <td>0.516364</td>\n",
       "    </tr>\n",
       "    <tr>\n",
       "      <th>1</th>\n",
       "      <td>Logistic Regression</td>\n",
       "      <td>0.463636</td>\n",
       "    </tr>\n",
       "    <tr>\n",
       "      <th>5</th>\n",
       "      <td>Support Vector Machine</td>\n",
       "      <td>0.100000</td>\n",
       "    </tr>\n",
       "  </tbody>\n",
       "</table>\n",
       "</div>"
      ],
      "text/plain": [
       "               Algorithms  Tests Accuracy\n",
       "4       Gradient Boosting        0.805455\n",
       "3           Random Forest        0.790303\n",
       "6           Deep Learning        0.740000\n",
       "2          Decision Trees        0.730909\n",
       "0     k-Nearest Neighbors        0.516364\n",
       "1     Logistic Regression        0.463636\n",
       "5  Support Vector Machine        0.100000"
      ]
     },
     "execution_count": 59,
     "metadata": {},
     "output_type": "execute_result"
    }
   ],
   "source": [
    "algorithms = [\"k-Nearest Neighbors\", \"Logistic Regression\", \"Decision Trees\", \"Random Forest\",\n",
    "              \"Gradient Boosting\", \"Support Vector Machine\", \"Deep Learning\"]\n",
    "\n",
    "tests_accuracy = [knn.score(X_test, y_test), logreg100.score(X_test, y_test), tree2.score(X_test, y_test),\n",
    " rf1.score(X_test, y_test), gb.score(X_test, y_test), svc3.score(X_test_scaled, y_test),\n",
    " mlp3.score(X_test_scaled, y_test)]\n",
    "\n",
    "compare_algorithms = pd.DataFrame({ \"Algorithms\": algorithms, \"Tests Accuracy\": tests_accuracy })\n",
    "compare_algorithms.sort_values(by = \"Tests Accuracy\", ascending = False)"
   ]
  },
  {
   "cell_type": "code",
   "execution_count": 50,
   "metadata": {},
   "outputs": [
    {
     "data": {
      "image/png": "[encoded data removed]",
      "text/plain": [
       "<Figure size 576x576 with 1 Axes>"
      ]
     },
     "metadata": {
      "needs_background": "light"
     },
     "output_type": "display_data"
    }
   ],
   "source": [
    "import matplotlib.pyplot as plt\n",
    "%matplotlib inline\n",
    "plt.figure(figsize=(8,8))\n",
    "sns.barplot(x = \"Tests Accuracy\", y = \"Algorithms\", data = compare_algorithms)\n",
    "plt.show()"
   ]
  },
  {
   "cell_type": "code",
   "execution_count": 60,
   "metadata": {},
   "outputs": [
    {
     "data": {
      "text/plain": [
       "GradientBoostingClassifier(random_state=42)"
      ]
     },
     "execution_count": 60,
     "metadata": {},
     "output_type": "execute_result"
    }
   ],
   "source": [
    "model = gb\n",
    "model"
   ]
  },
  {
   "cell_type": "code",
   "execution_count": 61,
   "metadata": {},
   "outputs": [],
   "source": [
    "predictions = model.predict(X_test)"
   ]
  },
  {
   "cell_type": "code",
   "execution_count": 62,
   "metadata": {},
   "outputs": [
    {
     "name": "stdout",
     "output_type": "stream",
     "text": [
      "3\n",
      "8\n",
      "10\n",
      "10\n",
      "9\n",
      "2\n",
      "3\n",
      "2\n",
      "2\n",
      "1\n",
      "4\n",
      "7\n",
      "10\n",
      "5\n",
      "1\n",
      "4\n",
      "2\n",
      "2\n",
      "7\n",
      "7\n",
      "7\n",
      "3\n",
      "9\n",
      "6\n",
      "9\n",
      "2\n",
      "8\n",
      "9\n",
      "3\n",
      "1\n",
      "9\n",
      "6\n",
      "9\n",
      "9\n",
      "2\n",
      "6\n",
      "3\n",
      "2\n",
      "9\n",
      "6\n",
      "10\n",
      "2\n",
      "10\n",
      "6\n",
      "2\n",
      "3\n",
      "5\n",
      "8\n",
      "6\n",
      "5\n",
      "8\n",
      "10\n",
      "3\n",
      "1\n",
      "4\n",
      "8\n",
      "5\n",
      "2\n",
      "3\n",
      "10\n",
      "9\n",
      "9\n",
      "2\n",
      "3\n",
      "6\n",
      "3\n",
      "1\n",
      "7\n",
      "9\n",
      "5\n",
      "5\n",
      "2\n",
      "3\n",
      "7\n",
      "2\n",
      "9\n",
      "5\n",
      "8\n",
      "8\n",
      "6\n",
      "7\n",
      "10\n",
      "9\n",
      "3\n",
      "5\n",
      "9\n",
      "1\n",
      "10\n",
      "2\n",
      "1\n",
      "1\n",
      "7\n",
      "10\n",
      "10\n",
      "1\n",
      "10\n",
      "9\n",
      "1\n",
      "4\n",
      "6\n",
      "3\n",
      "9\n",
      "10\n",
      "8\n",
      "6\n",
      "6\n",
      "7\n",
      "2\n",
      "6\n",
      "4\n",
      "7\n",
      "7\n",
      "3\n",
      "8\n",
      "5\n",
      "2\n",
      "8\n",
      "7\n",
      "6\n",
      "8\n",
      "1\n",
      "1\n",
      "10\n",
      "8\n",
      "9\n",
      "10\n",
      "8\n",
      "9\n",
      "9\n",
      "2\n",
      "7\n",
      "10\n",
      "7\n",
      "10\n",
      "8\n",
      "2\n",
      "2\n",
      "6\n",
      "9\n",
      "3\n",
      "8\n",
      "8\n",
      "6\n",
      "2\n",
      "2\n",
      "10\n",
      "4\n",
      "2\n",
      "10\n",
      "3\n",
      "6\n",
      "2\n",
      "1\n",
      "6\n",
      "2\n",
      "9\n",
      "5\n",
      "5\n",
      "1\n",
      "7\n",
      "5\n",
      "6\n",
      "1\n",
      "5\n",
      "10\n",
      "7\n",
      "8\n",
      "2\n",
      "2\n",
      "2\n",
      "7\n",
      "7\n",
      "9\n",
      "3\n",
      "10\n",
      "8\n",
      "4\n",
      "5\n",
      "8\n",
      "1\n",
      "6\n",
      "9\n",
      "3\n",
      "9\n",
      "2\n",
      "3\n",
      "7\n",
      "10\n",
      "9\n",
      "2\n",
      "5\n",
      "1\n",
      "7\n",
      "6\n",
      "6\n",
      "1\n",
      "3\n",
      "10\n",
      "3\n",
      "10\n",
      "2\n",
      "7\n",
      "1\n",
      "3\n",
      "10\n",
      "8\n",
      "8\n",
      "3\n",
      "8\n",
      "3\n",
      "2\n",
      "8\n",
      "6\n",
      "10\n",
      "6\n",
      "5\n",
      "9\n",
      "6\n",
      "8\n",
      "4\n",
      "6\n",
      "10\n",
      "1\n",
      "5\n",
      "5\n",
      "10\n",
      "6\n",
      "3\n",
      "5\n",
      "3\n",
      "2\n",
      "10\n",
      "1\n",
      "10\n",
      "9\n",
      "6\n",
      "3\n",
      "10\n",
      "7\n",
      "7\n",
      "9\n",
      "2\n",
      "1\n",
      "2\n",
      "1\n",
      "4\n",
      "7\n",
      "1\n",
      "3\n",
      "3\n",
      "7\n",
      "5\n",
      "7\n",
      "10\n",
      "1\n",
      "8\n",
      "6\n",
      "1\n",
      "7\n",
      "4\n",
      "2\n",
      "2\n",
      "2\n",
      "5\n",
      "10\n",
      "6\n",
      "5\n",
      "2\n",
      "3\n",
      "5\n",
      "5\n",
      "9\n",
      "7\n",
      "9\n",
      "9\n",
      "6\n",
      "4\n",
      "4\n",
      "2\n",
      "9\n",
      "7\n",
      "10\n",
      "3\n",
      "9\n",
      "8\n",
      "8\n",
      "10\n",
      "9\n",
      "1\n",
      "9\n",
      "9\n",
      "2\n",
      "3\n",
      "8\n",
      "2\n",
      "9\n",
      "7\n",
      "8\n",
      "5\n",
      "7\n",
      "9\n",
      "9\n",
      "3\n",
      "6\n",
      "5\n",
      "8\n",
      "1\n",
      "9\n",
      "5\n",
      "1\n",
      "9\n",
      "9\n",
      "3\n",
      "2\n",
      "2\n",
      "1\n",
      "2\n",
      "6\n",
      "1\n",
      "3\n",
      "2\n",
      "4\n",
      "1\n",
      "7\n",
      "3\n",
      "8\n",
      "1\n",
      "3\n",
      "9\n",
      "9\n",
      "7\n",
      "9\n",
      "8\n",
      "3\n",
      "3\n",
      "6\n",
      "4\n",
      "9\n",
      "7\n",
      "6\n",
      "5\n",
      "9\n",
      "2\n",
      "5\n",
      "1\n",
      "10\n",
      "5\n",
      "5\n",
      "9\n",
      "1\n",
      "3\n",
      "3\n",
      "3\n",
      "3\n",
      "7\n",
      "8\n",
      "6\n",
      "8\n",
      "6\n",
      "4\n",
      "10\n",
      "3\n",
      "5\n",
      "5\n",
      "1\n",
      "2\n",
      "9\n",
      "1\n",
      "2\n",
      "7\n",
      "4\n",
      "5\n",
      "6\n",
      "8\n",
      "3\n",
      "8\n",
      "3\n",
      "1\n",
      "5\n",
      "3\n",
      "9\n",
      "5\n",
      "8\n",
      "2\n",
      "2\n",
      "7\n",
      "10\n",
      "6\n",
      "9\n",
      "10\n",
      "1\n",
      "8\n",
      "4\n",
      "8\n",
      "9\n",
      "5\n",
      "8\n",
      "2\n",
      "1\n",
      "6\n",
      "3\n",
      "4\n",
      "2\n",
      "10\n",
      "3\n",
      "1\n",
      "5\n",
      "2\n",
      "5\n",
      "1\n",
      "8\n",
      "1\n",
      "2\n",
      "9\n",
      "5\n",
      "8\n",
      "8\n",
      "4\n",
      "6\n",
      "3\n",
      "2\n",
      "3\n",
      "5\n",
      "3\n",
      "2\n",
      "8\n",
      "3\n",
      "3\n",
      "1\n",
      "1\n",
      "4\n",
      "7\n",
      "3\n",
      "4\n",
      "3\n",
      "5\n",
      "6\n",
      "3\n",
      "3\n",
      "4\n",
      "2\n",
      "3\n",
      "1\n",
      "1\n",
      "8\n",
      "3\n",
      "1\n",
      "1\n",
      "9\n",
      "6\n",
      "9\n",
      "7\n",
      "2\n",
      "1\n",
      "3\n",
      "5\n",
      "9\n",
      "3\n",
      "8\n",
      "3\n",
      "8\n",
      "8\n",
      "1\n",
      "3\n",
      "9\n",
      "3\n",
      "8\n",
      "8\n",
      "4\n",
      "8\n",
      "7\n",
      "6\n",
      "9\n",
      "9\n",
      "9\n",
      "10\n",
      "3\n",
      "8\n",
      "4\n",
      "8\n",
      "10\n",
      "3\n",
      "10\n",
      "4\n",
      "2\n",
      "7\n",
      "2\n",
      "9\n",
      "10\n",
      "3\n",
      "9\n",
      "3\n",
      "8\n",
      "6\n",
      "10\n",
      "10\n",
      "9\n",
      "5\n",
      "1\n",
      "2\n",
      "1\n",
      "5\n",
      "10\n",
      "3\n",
      "10\n",
      "9\n",
      "10\n",
      "3\n",
      "5\n",
      "2\n",
      "10\n",
      "3\n",
      "1\n",
      "4\n",
      "1\n",
      "5\n",
      "2\n",
      "3\n",
      "7\n",
      "1\n",
      "9\n",
      "9\n",
      "5\n",
      "5\n",
      "7\n",
      "4\n",
      "8\n",
      "3\n",
      "10\n",
      "9\n",
      "10\n",
      "1\n",
      "7\n",
      "8\n",
      "8\n",
      "6\n",
      "4\n",
      "1\n",
      "3\n",
      "7\n",
      "7\n",
      "10\n",
      "5\n",
      "2\n",
      "2\n",
      "2\n",
      "5\n",
      "8\n",
      "1\n",
      "7\n",
      "10\n",
      "9\n",
      "1\n",
      "2\n",
      "10\n",
      "2\n",
      "8\n",
      "9\n",
      "7\n",
      "9\n",
      "7\n",
      "1\n",
      "7\n",
      "1\n",
      "5\n",
      "9\n",
      "6\n",
      "4\n",
      "9\n",
      "2\n",
      "4\n",
      "6\n",
      "5\n",
      "8\n",
      "3\n",
      "10\n",
      "3\n",
      "3\n",
      "8\n",
      "2\n",
      "7\n",
      "2\n",
      "2\n",
      "7\n",
      "2\n",
      "2\n",
      "9\n",
      "1\n",
      "1\n",
      "3\n",
      "10\n",
      "9\n",
      "1\n",
      "3\n",
      "8\n",
      "1\n",
      "8\n",
      "5\n",
      "10\n",
      "5\n",
      "7\n",
      "3\n",
      "3\n",
      "3\n",
      "6\n",
      "10\n",
      "5\n",
      "1\n",
      "3\n",
      "5\n",
      "3\n",
      "3\n",
      "8\n",
      "8\n",
      "8\n",
      "10\n",
      "8\n",
      "6\n",
      "9\n",
      "3\n",
      "1\n",
      "3\n",
      "3\n",
      "6\n",
      "4\n",
      "4\n",
      "2\n",
      "5\n",
      "9\n",
      "2\n",
      "2\n",
      "3\n",
      "2\n",
      "3\n",
      "2\n",
      "2\n",
      "1\n",
      "3\n",
      "8\n",
      "5\n",
      "1\n",
      "10\n",
      "1\n",
      "6\n",
      "10\n",
      "6\n",
      "6\n",
      "3\n",
      "9\n",
      "3\n",
      "3\n",
      "4\n",
      "1\n",
      "8\n",
      "1\n",
      "4\n",
      "4\n",
      "6\n",
      "7\n",
      "7\n",
      "10\n",
      "10\n",
      "1\n",
      "8\n",
      "3\n",
      "8\n",
      "3\n",
      "5\n",
      "5\n",
      "6\n",
      "3\n",
      "6\n",
      "5\n",
      "10\n",
      "2\n",
      "9\n",
      "8\n",
      "4\n",
      "7\n",
      "9\n",
      "10\n",
      "2\n",
      "4\n",
      "1\n",
      "1\n",
      "6\n",
      "4\n",
      "7\n",
      "1\n",
      "1\n",
      "4\n",
      "2\n",
      "9\n",
      "9\n",
      "9\n",
      "7\n",
      "9\n",
      "7\n",
      "4\n",
      "7\n",
      "10\n",
      "1\n",
      "1\n",
      "5\n",
      "6\n",
      "5\n",
      "2\n",
      "1\n",
      "7\n",
      "10\n",
      "5\n",
      "2\n",
      "4\n",
      "6\n",
      "4\n",
      "8\n",
      "1\n",
      "2\n",
      "6\n",
      "4\n",
      "10\n",
      "7\n",
      "8\n",
      "3\n",
      "3\n",
      "3\n",
      "2\n",
      "8\n",
      "9\n",
      "5\n",
      "7\n",
      "1\n",
      "4\n",
      "3\n",
      "6\n",
      "10\n",
      "10\n",
      "10\n",
      "10\n",
      "8\n",
      "1\n",
      "6\n",
      "2\n",
      "9\n",
      "7\n",
      "3\n",
      "10\n",
      "2\n",
      "5\n",
      "3\n",
      "3\n",
      "3\n",
      "3\n",
      "8\n",
      "3\n",
      "9\n",
      "5\n",
      "3\n",
      "9\n",
      "8\n",
      "9\n",
      "8\n",
      "8\n",
      "3\n",
      "5\n",
      "3\n",
      "10\n",
      "1\n",
      "7\n",
      "1\n",
      "9\n",
      "5\n",
      "10\n",
      "3\n",
      "8\n",
      "9\n",
      "2\n",
      "7\n",
      "9\n",
      "5\n",
      "6\n",
      "7\n",
      "8\n",
      "10\n",
      "9\n",
      "2\n",
      "2\n",
      "3\n",
      "1\n",
      "8\n",
      "2\n",
      "3\n",
      "6\n",
      "9\n",
      "4\n",
      "1\n",
      "9\n",
      "9\n",
      "5\n",
      "8\n",
      "9\n",
      "1\n",
      "6\n",
      "8\n",
      "6\n",
      "6\n",
      "2\n",
      "2\n",
      "5\n",
      "4\n",
      "8\n",
      "2\n",
      "1\n",
      "9\n",
      "4\n",
      "10\n",
      "4\n",
      "2\n",
      "8\n",
      "2\n",
      "1\n",
      "9\n",
      "5\n",
      "3\n",
      "3\n",
      "4\n",
      "10\n",
      "8\n",
      "6\n",
      "9\n",
      "3\n",
      "8\n",
      "1\n",
      "9\n",
      "3\n",
      "6\n",
      "9\n",
      "2\n",
      "10\n",
      "2\n",
      "9\n",
      "8\n",
      "2\n",
      "5\n",
      "2\n",
      "7\n",
      "1\n",
      "10\n",
      "9\n",
      "8\n",
      "3\n",
      "3\n",
      "1\n",
      "6\n",
      "9\n",
      "10\n",
      "1\n",
      "9\n",
      "7\n",
      "2\n",
      "6\n",
      "2\n",
      "6\n",
      "6\n",
      "1\n",
      "3\n",
      "9\n",
      "5\n",
      "3\n",
      "3\n",
      "9\n",
      "10\n",
      "3\n",
      "3\n",
      "4\n",
      "6\n",
      "9\n",
      "6\n",
      "1\n",
      "2\n",
      "2\n",
      "4\n",
      "6\n",
      "10\n",
      "6\n",
      "9\n",
      "1\n",
      "3\n",
      "7\n",
      "1\n",
      "10\n",
      "10\n",
      "4\n",
      "1\n",
      "10\n",
      "8\n",
      "2\n",
      "3\n",
      "2\n",
      "9\n",
      "10\n",
      "9\n",
      "10\n",
      "1\n",
      "8\n",
      "8\n",
      "10\n",
      "4\n",
      "6\n",
      "4\n",
      "10\n",
      "5\n",
      "9\n",
      "2\n",
      "10\n",
      "1\n",
      "4\n",
      "7\n",
      "1\n",
      "4\n",
      "2\n",
      "9\n",
      "5\n",
      "9\n",
      "1\n",
      "9\n",
      "7\n",
      "9\n",
      "8\n",
      "5\n",
      "5\n",
      "7\n",
      "2\n",
      "9\n",
      "2\n",
      "6\n",
      "1\n",
      "8\n",
      "5\n",
      "3\n",
      "7\n",
      "7\n",
      "4\n",
      "1\n",
      "5\n",
      "8\n",
      "9\n",
      "8\n",
      "1\n",
      "7\n",
      "3\n",
      "4\n",
      "8\n",
      "9\n",
      "5\n",
      "4\n",
      "10\n",
      "7\n",
      "8\n",
      "10\n",
      "8\n",
      "2\n",
      "1\n",
      "2\n",
      "7\n",
      "3\n",
      "10\n",
      "3\n",
      "4\n",
      "5\n",
      "4\n",
      "9\n",
      "4\n",
      "9\n",
      "3\n",
      "7\n",
      "9\n",
      "10\n",
      "10\n",
      "1\n",
      "2\n",
      "7\n",
      "9\n",
      "1\n",
      "1\n",
      "7\n",
      "1\n",
      "3\n",
      "5\n",
      "2\n",
      "6\n",
      "6\n",
      "4\n",
      "10\n",
      "3\n",
      "6\n",
      "4\n",
      "10\n",
      "2\n",
      "8\n",
      "6\n",
      "4\n",
      "10\n",
      "4\n",
      "6\n",
      "10\n",
      "6\n",
      "9\n",
      "4\n",
      "3\n",
      "8\n",
      "4\n",
      "9\n",
      "6\n",
      "2\n",
      "2\n",
      "8\n",
      "1\n",
      "3\n",
      "4\n",
      "1\n",
      "8\n",
      "2\n",
      "2\n",
      "4\n",
      "8\n",
      "10\n",
      "10\n",
      "6\n",
      "10\n",
      "9\n",
      "1\n",
      "6\n",
      "8\n",
      "9\n",
      "10\n",
      "4\n",
      "10\n",
      "9\n",
      "9\n",
      "10\n",
      "2\n",
      "9\n",
      "5\n",
      "9\n",
      "9\n",
      "5\n",
      "6\n",
      "10\n",
      "6\n",
      "9\n",
      "9\n",
      "8\n",
      "6\n",
      "6\n",
      "2\n",
      "2\n",
      "9\n",
      "7\n",
      "2\n",
      "5\n",
      "8\n",
      "7\n",
      "4\n",
      "2\n",
      "1\n",
      "9\n",
      "9\n",
      "7\n",
      "7\n",
      "4\n",
      "10\n",
      "6\n",
      "9\n",
      "9\n",
      "7\n",
      "8\n",
      "6\n",
      "9\n",
      "5\n",
      "9\n",
      "4\n",
      "4\n",
      "2\n",
      "8\n",
      "4\n",
      "5\n",
      "8\n",
      "10\n",
      "10\n",
      "9\n",
      "4\n",
      "2\n",
      "6\n",
      "9\n",
      "9\n",
      "5\n",
      "5\n",
      "6\n",
      "6\n",
      "5\n",
      "2\n",
      "3\n",
      "7\n",
      "3\n",
      "5\n",
      "2\n",
      "8\n",
      "6\n",
      "3\n",
      "7\n",
      "1\n",
      "9\n",
      "6\n",
      "9\n",
      "5\n",
      "5\n",
      "3\n",
      "4\n",
      "10\n",
      "3\n",
      "4\n",
      "8\n",
      "7\n",
      "2\n",
      "2\n",
      "8\n",
      "6\n",
      "2\n",
      "6\n",
      "3\n",
      "6\n",
      "9\n",
      "10\n",
      "9\n",
      "5\n",
      "6\n",
      "5\n",
      "5\n",
      "2\n",
      "7\n",
      "1\n",
      "3\n",
      "6\n",
      "2\n",
      "1\n",
      "5\n",
      "9\n",
      "5\n",
      "1\n",
      "7\n",
      "8\n",
      "2\n",
      "10\n",
      "10\n",
      "1\n",
      "8\n",
      "3\n",
      "7\n",
      "4\n",
      "5\n",
      "2\n",
      "2\n",
      "3\n",
      "3\n",
      "5\n",
      "9\n",
      "6\n",
      "9\n",
      "5\n",
      "5\n",
      "1\n",
      "5\n",
      "1\n",
      "5\n",
      "9\n",
      "10\n",
      "7\n",
      "1\n",
      "4\n",
      "2\n",
      "10\n",
      "1\n",
      "3\n",
      "9\n",
      "8\n",
      "3\n",
      "5\n",
      "10\n",
      "10\n",
      "3\n",
      "5\n",
      "3\n",
      "10\n",
      "4\n",
      "8\n",
      "6\n",
      "9\n",
      "10\n",
      "2\n",
      "5\n",
      "8\n",
      "7\n",
      "6\n",
      "8\n",
      "5\n",
      "1\n",
      "10\n",
      "5\n",
      "1\n",
      "2\n",
      "6\n",
      "2\n",
      "9\n",
      "9\n",
      "6\n",
      "9\n",
      "1\n",
      "8\n",
      "9\n",
      "7\n",
      "9\n",
      "5\n",
      "3\n",
      "10\n",
      "2\n",
      "3\n",
      "2\n",
      "7\n",
      "8\n",
      "7\n",
      "3\n",
      "3\n",
      "3\n",
      "5\n",
      "10\n",
      "4\n",
      "1\n",
      "8\n",
      "6\n",
      "3\n",
      "8\n",
      "2\n",
      "7\n",
      "1\n",
      "9\n",
      "3\n",
      "2\n",
      "6\n",
      "6\n",
      "1\n",
      "2\n",
      "9\n",
      "2\n",
      "6\n",
      "4\n",
      "4\n",
      "9\n",
      "8\n",
      "9\n",
      "9\n",
      "1\n",
      "2\n",
      "6\n",
      "3\n",
      "1\n",
      "9\n",
      "9\n",
      "2\n",
      "10\n",
      "3\n",
      "4\n",
      "6\n",
      "7\n",
      "3\n",
      "4\n",
      "4\n",
      "9\n",
      "5\n",
      "9\n",
      "9\n",
      "4\n",
      "5\n",
      "5\n",
      "6\n",
      "10\n",
      "5\n",
      "3\n",
      "4\n",
      "9\n",
      "5\n",
      "1\n",
      "5\n",
      "10\n",
      "10\n",
      "10\n",
      "9\n",
      "8\n",
      "8\n",
      "2\n",
      "4\n",
      "2\n",
      "3\n",
      "4\n",
      "9\n",
      "9\n",
      "10\n",
      "2\n",
      "2\n",
      "5\n",
      "9\n",
      "3\n",
      "1\n",
      "9\n",
      "4\n",
      "4\n",
      "2\n",
      "6\n",
      "5\n",
      "3\n",
      "1\n",
      "7\n",
      "3\n",
      "5\n",
      "2\n",
      "5\n",
      "4\n",
      "6\n",
      "1\n",
      "3\n",
      "6\n",
      "7\n",
      "9\n",
      "3\n",
      "8\n",
      "9\n",
      "10\n",
      "1\n",
      "8\n",
      "2\n",
      "8\n",
      "3\n",
      "8\n",
      "6\n",
      "3\n",
      "7\n",
      "10\n",
      "6\n",
      "2\n",
      "1\n",
      "9\n",
      "10\n",
      "7\n",
      "10\n",
      "7\n",
      "2\n",
      "10\n",
      "1\n",
      "1\n",
      "8\n",
      "4\n",
      "8\n",
      "3\n",
      "4\n",
      "8\n",
      "7\n",
      "9\n",
      "6\n",
      "10\n",
      "2\n",
      "10\n",
      "9\n",
      "4\n",
      "7\n",
      "4\n",
      "5\n",
      "8\n",
      "5\n",
      "8\n",
      "4\n",
      "7\n",
      "3\n",
      "9\n",
      "3\n",
      "10\n",
      "5\n",
      "7\n",
      "4\n",
      "4\n",
      "1\n",
      "3\n",
      "10\n",
      "3\n",
      "2\n",
      "5\n",
      "3\n",
      "9\n",
      "3\n",
      "3\n",
      "8\n",
      "7\n",
      "1\n",
      "2\n",
      "8\n",
      "6\n",
      "3\n",
      "7\n",
      "7\n",
      "6\n",
      "8\n",
      "2\n",
      "4\n",
      "1\n",
      "4\n",
      "1\n",
      "3\n",
      "3\n",
      "1\n",
      "3\n",
      "10\n",
      "9\n",
      "9\n",
      "10\n",
      "3\n",
      "3\n",
      "10\n",
      "3\n",
      "4\n",
      "7\n",
      "5\n",
      "3\n",
      "6\n",
      "1\n",
      "4\n",
      "4\n",
      "6\n",
      "8\n",
      "6\n",
      "10\n",
      "4\n",
      "9\n",
      "5\n",
      "2\n",
      "1\n",
      "10\n",
      "8\n",
      "10\n",
      "9\n",
      "3\n",
      "3\n",
      "3\n",
      "6\n",
      "2\n",
      "3\n",
      "7\n",
      "6\n",
      "4\n",
      "9\n",
      "1\n",
      "1\n",
      "7\n",
      "2\n",
      "10\n",
      "5\n",
      "9\n",
      "8\n",
      "9\n",
      "9\n",
      "9\n",
      "5\n",
      "1\n",
      "3\n",
      "3\n",
      "8\n",
      "2\n",
      "4\n",
      "5\n",
      "3\n",
      "4\n",
      "4\n",
      "1\n",
      "1\n",
      "9\n",
      "3\n",
      "8\n",
      "10\n",
      "3\n",
      "3\n",
      "1\n",
      "10\n",
      "3\n",
      "4\n",
      "1\n",
      "6\n",
      "3\n",
      "4\n",
      "3\n",
      "2\n",
      "10\n",
      "10\n",
      "10\n",
      "2\n",
      "9\n",
      "6\n",
      "4\n",
      "1\n",
      "9\n",
      "3\n",
      "5\n",
      "4\n",
      "10\n",
      "10\n",
      "7\n",
      "5\n",
      "7\n",
      "4\n",
      "10\n",
      "2\n",
      "7\n",
      "10\n",
      "8\n",
      "5\n",
      "4\n",
      "9\n",
      "9\n",
      "5\n",
      "2\n",
      "5\n",
      "2\n",
      "10\n",
      "3\n",
      "3\n",
      "3\n",
      "1\n",
      "3\n",
      "3\n",
      "1\n",
      "8\n",
      "2\n",
      "2\n",
      "9\n",
      "4\n",
      "7\n",
      "4\n",
      "10\n",
      "4\n",
      "7\n",
      "8\n",
      "1\n",
      "10\n",
      "1\n",
      "3\n",
      "2\n",
      "5\n",
      "8\n",
      "4\n",
      "10\n",
      "6\n",
      "7\n",
      "8\n",
      "9\n",
      "4\n",
      "8\n",
      "9\n",
      "6\n",
      "1\n",
      "2\n",
      "2\n",
      "1\n",
      "1\n",
      "1\n",
      "3\n",
      "10\n",
      "3\n",
      "8\n",
      "8\n",
      "2\n",
      "10\n",
      "9\n",
      "8\n",
      "3\n",
      "7\n",
      "9\n",
      "3\n",
      "2\n",
      "3\n",
      "9\n",
      "2\n",
      "8\n",
      "10\n",
      "7\n",
      "2\n",
      "3\n",
      "9\n",
      "10\n",
      "1\n",
      "3\n",
      "3\n",
      "7\n",
      "6\n",
      "10\n",
      "9\n",
      "3\n",
      "5\n",
      "9\n",
      "2\n",
      "10\n",
      "6\n",
      "9\n",
      "3\n",
      "6\n",
      "6\n",
      "5\n",
      "5\n",
      "7\n",
      "2\n",
      "6\n",
      "8\n",
      "5\n",
      "1\n",
      "3\n",
      "3\n",
      "10\n",
      "5\n",
      "2\n",
      "8\n",
      "1\n",
      "10\n",
      "5\n",
      "1\n",
      "3\n",
      "8\n",
      "1\n",
      "4\n",
      "7\n",
      "7\n",
      "8\n",
      "4\n",
      "2\n",
      "10\n",
      "2\n",
      "1\n",
      "9\n",
      "3\n",
      "2\n",
      "7\n",
      "5\n",
      "2\n",
      "6\n",
      "6\n"
     ]
    }
   ],
   "source": [
    "for i in predictions:\n",
    "    print(i)"
   ]
  },
  {
   "cell_type": "code",
   "execution_count": 63,
   "metadata": {},
   "outputs": [],
   "source": [
    "from sklearn.metrics import confusion_matrix\n",
    "\n",
    "cm = confusion_matrix(y_true=y_test, y_pred=predictions)"
   ]
  },
  {
   "cell_type": "code",
   "execution_count": 53,
   "metadata": {},
   "outputs": [],
   "source": [
    "def plot_confusion_matrix(cm, classes,\n",
    "                          normalize=False,\n",
    "                          title='Confusion matrix',\n",
    "                          cmap=plt.cm.Blues):\n",
    "    \"\"\"\n",
    "    This function prints and plots the confusion matrix.\n",
    "    Normalization can be applied by setting `normalize=True`.\n",
    "    \"\"\"\n",
    "    plt.imshow(cm, interpolation='nearest', cmap=cmap)\n",
    "    plt.title(title)\n",
    "    plt.colorbar()\n",
    "    tick_marks = np.arange(len(classes))\n",
    "    plt.xticks(tick_marks, classes, rotation=45)\n",
    "    plt.yticks(tick_marks, classes)\n",
    "\n",
    "    if normalize:\n",
    "        cm = cm.astype('float') / cm.sum(axis=1)[:, np.newaxis]\n",
    "        print(\"Normalized confusion matrix\")\n",
    "    else:\n",
    "        print('Confusion matrix, without normalization')\n",
    "\n",
    "    print(cm)\n",
    "\n",
    "    thresh = cm.max() / 2.\n",
    "    for i, j in itertools.product(range(cm.shape[0]), range(cm.shape[1])):\n",
    "        plt.text(j, i, cm[i, j],\n",
    "            horizontalalignment=\"center\",\n",
    "            color=\"white\" if cm[i, j] > thresh else \"black\")\n",
    "\n",
    "    plt.tight_layout()\n",
    "    plt.ylabel('True label')\n",
    "    plt.xlabel('Predicted label')"
   ]
  },
  {
   "cell_type": "code",
   "execution_count": 64,
   "metadata": {},
   "outputs": [
    {
     "name": "stdout",
     "output_type": "stream",
     "text": [
      "Confusion matrix, without normalization\n",
      "[[159   3   0   0   3   0   0   0   0   0]\n",
      " [  5 157   3   0   0   0   0   0   0   0]\n",
      " [  0   9 140   0   4   0   1   1  10   0]\n",
      " [  1   2  12 107   4   0  17   5  15   2]\n",
      " [  3   5  32   0 115   0   4   1   3   2]\n",
      " [  0   0   1   6   8 139   5   0   5   1]\n",
      " [  0   3  10   6   2   0  95   6  41   2]\n",
      " [  0   1   4   3   1   0   1 144   9   2]\n",
      " [  2   9  17   2   8   0   3   2 118   4]\n",
      " [  0   0   0   1   1   1   1   0   6 155]]\n"
     ]
    },
    {
     "data": {
      "image/png": "[encoded data removed]",
      "text/plain": [
       "<Figure size 432x288 with 2 Axes>"
      ]
     },
     "metadata": {
      "needs_background": "light"
     },
     "output_type": "display_data"
    }
   ],
   "source": [
    "import itertools\n",
    "cm_plot_labels = ['1','2','3','4','5','6','7','8','9','10']\n",
    "plot_confusion_matrix(cm=cm, classes=cm_plot_labels, title='Confusion Matrix')"
   ]
  },
  {
   "cell_type": "code",
   "execution_count": 131,
   "metadata": {},
   "outputs": [
    {
     "name": "stdout",
     "output_type": "stream",
     "text": [
      "\u001b[1m The result is telling us that we have:  1329 correct predictions.\n",
      "\u001b[1m The result is telling us that we have:  321 incorrect predictions.\n",
      "\u001b[1m We have a total predictions of:  1650\n"
     ]
    }
   ],
   "source": [
    "print(\"\\033[1m The result is telling us that we have: \",(cm[0,0] + cm[1,1] + cm[2,2] + cm[3,3] + cm[4,4] + \n",
    "                                                         cm[5,5] + cm[6,6] + cm[7,7] + cm[8,8] + cm[9,9] ),\"correct predictions.\")\n",
    "print(\"\\033[1m The result is telling us that we have: \", ( cm.sum() - (cm[0,0] + cm[1,1] + cm[2,2] + \n",
    "                                                          cm[3,3] + cm[4,4] + cm[5,5] + cm[6,6] + cm[7,7] + \n",
    "                                                          cm[8,8] + cm[9,9] )),\"incorrect predictions.\")\n",
    "print(\"\\033[1m We have a total predictions of: \",( cm.sum()) )"
   ]
  },
  {
   "cell_type": "code",
   "execution_count": 132,
   "metadata": {},
   "outputs": [
    {
     "name": "stdout",
     "output_type": "stream",
     "text": [
      "              precision    recall  f1-score   support\n",
      "\n",
      "           1       0.94      0.96      0.95       165\n",
      "           2       0.83      0.95      0.89       165\n",
      "           3       0.64      0.85      0.73       165\n",
      "           4       0.86      0.65      0.74       165\n",
      "           5       0.79      0.70      0.74       165\n",
      "           6       0.99      0.84      0.91       165\n",
      "           7       0.75      0.58      0.65       165\n",
      "           8       0.91      0.87      0.89       165\n",
      "           9       0.57      0.72      0.63       165\n",
      "          10       0.92      0.94      0.93       165\n",
      "\n",
      "    accuracy                           0.81      1650\n",
      "   macro avg       0.82      0.81      0.81      1650\n",
      "weighted avg       0.82      0.81      0.81      1650\n",
      "\n"
     ]
    }
   ],
   "source": [
    "from sklearn.metrics import classification_report\n",
    "\n",
    "print(classification_report(y_test, predictions))"
   ]
  }
 ],
 "metadata": {
  "kernelspec": {
   "display_name": "Python 3",
   "language": "python",
   "name": "python3"
  },
  "language_info": {
   "codemirror_mode": {
    "name": "ipython",
    "version": 3
   },
   "file_extension": ".py",
   "mimetype": "text/x-python",
   "name": "python",
   "nbconvert_exporter": "python",
   "pygments_lexer": "ipython3",
   "version": "3.7.4"
  }
 },
 "nbformat": 4,
 "nbformat_minor": 4
}
